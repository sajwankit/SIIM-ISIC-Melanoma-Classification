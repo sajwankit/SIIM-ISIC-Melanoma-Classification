{
 "cells": [
  {
   "cell_type": "code",
   "execution_count": null,
   "metadata": {
    "execution": {
     "iopub.execute_input": "2020-08-15T09:23:28.754106Z",
     "iopub.status.busy": "2020-08-15T09:23:28.752972Z",
     "iopub.status.idle": "2020-08-15T09:23:28.756545Z",
     "shell.execute_reply": "2020-08-15T09:23:28.755778Z"
    },
    "papermill": {
     "duration": 0.019859,
     "end_time": "2020-08-15T09:23:28.756702",
     "exception": false,
     "start_time": "2020-08-15T09:23:28.736843",
     "status": "completed"
    },
    "tags": []
   },
   "outputs": [],
   "source": [
    "size=192"
   ]
  },
  {
   "cell_type": "code",
   "execution_count": null,
   "metadata": {
    "_cell_guid": "b1076dfc-b9ad-4769-8c92-a6c4dae69d19",
    "_uuid": "8f2839f25d086af736a60e9eeb907d3b93b6e0e5",
    "execution": {
     "iopub.execute_input": "2020-08-15T09:23:28.781498Z",
     "iopub.status.busy": "2020-08-15T09:23:28.780341Z",
     "iopub.status.idle": "2020-08-15T09:23:28.784038Z",
     "shell.execute_reply": "2020-08-15T09:23:28.783276Z"
    },
    "papermill": {
     "duration": 0.018186,
     "end_time": "2020-08-15T09:23:28.784183",
     "exception": false,
     "start_time": "2020-08-15T09:23:28.765997",
     "status": "completed"
    },
    "tags": []
   },
   "outputs": [],
   "source": [
    "# This Python 3 environment comes with many helpful analytics libraries installed\n",
    "# It is defined by the kaggle/python Docker image: https://github.com/kaggle/docker-python\n",
    "# For example, here's several helpful packages to load\n",
    "\n",
    "import numpy as np # linear algebra\n",
    "import pandas as pd # data processing, CSV file I/O (e.g. pd.read_csv)\n",
    "\n",
    "# Input data files are available in the read-only \"../input/\" directory\n",
    "# For example, running this (by clicking run or pressing Shift+Enter) will list all files under the input directory\n",
    "\n",
    "import os\n",
    "\n",
    "# You can write up to 5GB to the current directory (/kaggle/working/) that gets preserved as output when you create a version using \"Save & Run All\" \n",
    "# You can also write temporary files to /kaggle/temp/, but they won't be saved outside of the current session"
   ]
  },
  {
   "cell_type": "code",
   "execution_count": null,
   "metadata": {
    "_cell_guid": "79c7e3d0-c299-4dcb-8224-4455121ee9b0",
    "_uuid": "d629ff2d2480ee46fbb7e2d37f6b5fab8052498a",
    "execution": {
     "iopub.execute_input": "2020-08-15T09:23:28.811106Z",
     "iopub.status.busy": "2020-08-15T09:23:28.810275Z",
     "iopub.status.idle": "2020-08-15T09:23:36.581139Z",
     "shell.execute_reply": "2020-08-15T09:23:36.580448Z"
    },
    "papermill": {
     "duration": 7.788068,
     "end_time": "2020-08-15T09:23:36.581296",
     "exception": false,
     "start_time": "2020-08-15T09:23:28.793228",
     "status": "completed"
    },
    "tags": []
   },
   "outputs": [],
   "source": [
    "import pydicom\n",
    "from pydicom.pixel_data_handlers.util import convert_color_space\n",
    "\n",
    "from PIL import Image\n",
    "from skimage import io\n",
    "import cv2\n",
    "\n",
    "import tensorflow as tf\n",
    "\n",
    "import albumentations\n",
    "\n",
    "import numpy as np\n",
    "import pandas as pd\n",
    "\n",
    "from joblib import Parallel, delayed\n",
    "from tqdm.notebook import tqdm\n",
    "\n",
    "import matplotlib.pyplot as plt\n",
    "import matplotlib\n",
    "matplotlib.rcParams['font.size'] = 15\n",
    "\n",
    "from pathlib import Path\n",
    "\n",
    "INPUT_PATH = Path(\"/kaggle/input/siim-isic-melanoma-classification\")"
   ]
  },
  {
   "cell_type": "markdown",
   "metadata": {
    "papermill": {
     "duration": 0.008814,
     "end_time": "2020-08-15T09:23:36.601433",
     "exception": false,
     "start_time": "2020-08-15T09:23:36.592619",
     "status": "completed"
    },
    "tags": []
   },
   "source": [
    "# get the csvs ready "
   ]
  },
  {
   "cell_type": "code",
   "execution_count": null,
   "metadata": {
    "execution": {
     "iopub.execute_input": "2020-08-15T09:23:36.632364Z",
     "iopub.status.busy": "2020-08-15T09:23:36.631570Z",
     "iopub.status.idle": "2020-08-15T09:23:36.927301Z",
     "shell.execute_reply": "2020-08-15T09:23:36.926596Z"
    },
    "papermill": {
     "duration": 0.316819,
     "end_time": "2020-08-15T09:23:36.927446",
     "exception": false,
     "start_time": "2020-08-15T09:23:36.610627",
     "status": "completed"
    },
    "tags": []
   },
   "outputs": [],
   "source": [
    "train = pd.read_csv('../input/cluster-all/train.csv')\n",
    "train['patient_id'] = train['patient_code'].astype('int')\n",
    "test = pd.read_csv('../input/cluster-all/test.csv')\n",
    "m1 = pd.read_csv('../input/cluster-all/m1.csv')\n",
    "m1['patient_id'] = m1['patient_code'].astype('int')\n",
    "m2 = pd.read_csv('../input/cluster-all/m2.csv')\n",
    "# m2['patient_id'] = m2['patient_code']\n",
    "m3 = pd.read_csv('../input/cluster-all/m3.csv')\n",
    "# m3['patient_id'] = m3['patient_code']\n",
    "m4 = pd.read_csv('../input/cluster-all/m4.csv')\n",
    "# m4['patient_id'] = m4['patient_code']\n",
    "ext_18 = pd.read_csv('../input/cluster-all/ext_18.csv')"
   ]
  },
  {
   "cell_type": "markdown",
   "metadata": {
    "papermill": {
     "duration": 0.009203,
     "end_time": "2020-08-15T09:23:36.946273",
     "exception": false,
     "start_time": "2020-08-15T09:23:36.937070",
     "status": "completed"
    },
    "tags": []
   },
   "source": [
    "# > # Write TFRecords - Train"
   ]
  },
  {
   "cell_type": "code",
   "execution_count": null,
   "metadata": {
    "execution": {
     "iopub.execute_input": "2020-08-15T09:23:36.975794Z",
     "iopub.status.busy": "2020-08-15T09:23:36.974965Z",
     "iopub.status.idle": "2020-08-15T09:23:36.978510Z",
     "shell.execute_reply": "2020-08-15T09:23:36.977814Z"
    },
    "papermill": {
     "duration": 0.022908,
     "end_time": "2020-08-15T09:23:36.978659",
     "exception": false,
     "start_time": "2020-08-15T09:23:36.955751",
     "status": "completed"
    },
    "tags": []
   },
   "outputs": [],
   "source": [
    "def _bytes_feature(value):\n",
    "  \"\"\"Returns a bytes_list from a string / byte.\"\"\"\n",
    "  if isinstance(value, type(tf.constant(0))):\n",
    "    value = value.numpy() # BytesList won't unpack a string from an EagerTensor.\n",
    "  return tf.train.Feature(bytes_list=tf.train.BytesList(value=[value]))\n",
    "\n",
    "def _float_feature(value):\n",
    "  \"\"\"Returns a float_list from a float / double.\"\"\"\n",
    "  return tf.train.Feature(float_list=tf.train.FloatList(value=[value]))\n",
    "\n",
    "def _int64_feature(value):\n",
    "  \"\"\"Returns an int64_list from a bool / enum / int / uint.\"\"\"\n",
    "  return tf.train.Feature(int64_list=tf.train.Int64List(value=[value]))"
   ]
  },
  {
   "cell_type": "code",
   "execution_count": null,
   "metadata": {
    "execution": {
     "iopub.execute_input": "2020-08-15T09:23:37.008820Z",
     "iopub.status.busy": "2020-08-15T09:23:37.008052Z",
     "iopub.status.idle": "2020-08-15T09:23:37.010546Z",
     "shell.execute_reply": "2020-08-15T09:23:37.011258Z"
    },
    "papermill": {
     "duration": 0.023203,
     "end_time": "2020-08-15T09:23:37.011419",
     "exception": false,
     "start_time": "2020-08-15T09:23:36.988216",
     "status": "completed"
    },
    "tags": []
   },
   "outputs": [],
   "source": [
    "def serialize_example(feature0, feature1, feature2,\n",
    "                      feature3, feature4, feature5, feature6,\n",
    "                      feature7,feature8,feature9,feature10,\n",
    "                      ):\n",
    "  feature = {\n",
    "      'image': _bytes_feature(feature0),\n",
    "      'image_name': _bytes_feature(feature1),\n",
    "      'patient_id': _int64_feature(feature2),\n",
    "      'sex': _int64_feature(feature3),\n",
    "      'age_approx': _float_feature(feature4),\n",
    "      'anatom_site_general_challenge': _int64_feature(feature5),\n",
    "      'target': _float_feature(feature6),\n",
    "      'diagnosis': _int64_feature(feature7),\n",
    "      'width': _float_feature(feature8),\n",
    "      'height': _float_feature(feature9),\n",
    "      'cluster': _int64_feature(feature10),\n",
    "  }\n",
    "  example_proto = tf.train.Example(features=tf.train.Features(feature=feature))\n",
    "  return example_proto.SerializeToString()"
   ]
  },
  {
   "cell_type": "code",
   "execution_count": null,
   "metadata": {
    "execution": {
     "iopub.execute_input": "2020-08-15T09:23:37.040824Z",
     "iopub.status.busy": "2020-08-15T09:23:37.040015Z",
     "iopub.status.idle": "2020-08-15T09:23:37.067988Z",
     "shell.execute_reply": "2020-08-15T09:23:37.067165Z"
    },
    "papermill": {
     "duration": 0.047068,
     "end_time": "2020-08-15T09:23:37.068125",
     "exception": false,
     "start_time": "2020-08-15T09:23:37.021057",
     "status": "completed"
    },
    "tags": []
   },
   "outputs": [],
   "source": [
    "isic20all = [test]\n",
    "for isic20 in isic20all:\n",
    "    cols = isic20.columns\n",
    "    # LABEL ENCODE ALL STRINGS\n",
    "    cats = ['patient_id'] \n",
    "    for c in cats:\n",
    "        isic20[c],mp = isic20[c].factorize()\n",
    "        print(mp)\n",
    "    isic20.age_approx.fillna(isic20.age_approx.mean(),inplace=True)    \n",
    "    print('Imputing Age NaN count =',isic20.age_approx.isnull().sum())\n",
    "test['patient_id'] = 100000+test['patient_id']"
   ]
  },
  {
   "cell_type": "code",
   "execution_count": null,
   "metadata": {
    "execution": {
     "iopub.execute_input": "2020-08-15T09:23:37.120317Z",
     "iopub.status.busy": "2020-08-15T09:23:37.119374Z",
     "iopub.status.idle": "2020-08-15T09:23:37.142544Z",
     "shell.execute_reply": "2020-08-15T09:23:37.141916Z"
    },
    "papermill": {
     "duration": 0.064675,
     "end_time": "2020-08-15T09:23:37.142693",
     "exception": false,
     "start_time": "2020-08-15T09:23:37.078018",
     "status": "completed"
    },
    "tags": []
   },
   "outputs": [],
   "source": [
    "ext_18"
   ]
  },
  {
   "cell_type": "code",
   "execution_count": null,
   "metadata": {
    "execution": {
     "iopub.execute_input": "2020-08-15T09:23:37.176956Z",
     "iopub.status.busy": "2020-08-15T09:23:37.176178Z",
     "iopub.status.idle": "2020-08-15T09:23:37.282684Z",
     "shell.execute_reply": "2020-08-15T09:23:37.281793Z"
    },
    "papermill": {
     "duration": 0.129665,
     "end_time": "2020-08-15T09:23:37.282869",
     "exception": false,
     "start_time": "2020-08-15T09:23:37.153204",
     "status": "completed"
    },
    "tags": []
   },
   "outputs": [],
   "source": [
    "isic20 = pd.concat([train,test, m1, m2, m3, m4, ext_18])\n",
    "cols = isic20.columns\n",
    "# LABEL ENCODE ALL STRINGS\n",
    "cats = ['sex','anatom_site_general_challenge', 'diagnosis'] \n",
    "isic20.diagnosis.replace('MEL',str('melanoma'),inplace=True) \n",
    "isic20.diagnosis.replace('NV',str('nevus'),inplace=True)\n",
    "isic20.sex.replace('unknown',str(isic20.sex.mode().values[0]),inplace=True) \n",
    "for c in cats:\n",
    "    isic20[c],mp = isic20[c].factorize()\n",
    "    print(mp)\n",
    "isic20.age_approx.fillna(isic20.age_approx.mean(),inplace=True)\n",
    "isic20.sex.fillna(isic20.sex.mode(),inplace=True) \n",
    "print('Imputing Age NaN count =',isic20.age_approx.isnull().sum())\n",
    "print('Imputing sex NaN count =',isic20.sex.isnull().sum())"
   ]
  },
  {
   "cell_type": "code",
   "execution_count": null,
   "metadata": {
    "execution": {
     "iopub.execute_input": "2020-08-15T09:23:37.320229Z",
     "iopub.status.busy": "2020-08-15T09:23:37.312975Z",
     "iopub.status.idle": "2020-08-15T09:23:38.280887Z",
     "shell.execute_reply": "2020-08-15T09:23:38.279973Z"
    },
    "papermill": {
     "duration": 0.987374,
     "end_time": "2020-08-15T09:23:38.281042",
     "exception": false,
     "start_time": "2020-08-15T09:23:37.293668",
     "status": "completed"
    },
    "tags": []
   },
   "outputs": [],
   "source": [
    "train = isic20.query('source==\"train\"')\n",
    "train.to_csv('train.csv')\n",
    "test = isic20.query('source==\"test\"')\n",
    "test.to_csv('test.csv')\n",
    "m1 = isic20.query('source==\"m1_c\"')\n",
    "m1.to_csv('m1.csv')\n",
    "m2 = isic20.query('source==\"m2_c\"')\n",
    "m2.to_csv('m2.csv')\n",
    "m3 = isic20.query('source==\"m3_c\"')\n",
    "m3.to_csv('m3.csv')\n",
    "m4 = isic20.query('source==\"m4_c\"')\n",
    "m4.to_csv('m4.csv')\n",
    "ext_18 = isic20.query('source==\"ext_18\"')\n",
    "ext_18.to_csv('ext_18.csv')"
   ]
  },
  {
   "cell_type": "code",
   "execution_count": null,
   "metadata": {
    "execution": {
     "iopub.execute_input": "2020-08-15T09:23:38.325558Z",
     "iopub.status.busy": "2020-08-15T09:23:38.324375Z",
     "iopub.status.idle": "2020-08-15T09:23:38.327986Z",
     "shell.execute_reply": "2020-08-15T09:23:38.327366Z"
    },
    "papermill": {
     "duration": 0.034904,
     "end_time": "2020-08-15T09:23:38.328121",
     "exception": false,
     "start_time": "2020-08-15T09:23:38.293217",
     "status": "completed"
    },
    "tags": []
   },
   "outputs": [],
   "source": [
    "def gen_tf_rec(img_pths, isic_df,a):\n",
    "    SIZE = 3000\n",
    "    CT = len(img_pths)//SIZE + int(len(img_pths)%SIZE!=0)\n",
    "    rec_count = 0\n",
    "    for j in range(CT):\n",
    "        print(); print('Writing TFRecord %i of %i...'%(j,CT))\n",
    "        CT2 = min(SIZE,len(img_pths)-j*SIZE)\n",
    "        with tf.io.TFRecordWriter('isic%str%.2i-%i.tfrec'%(a,j,CT2)) as writer:\n",
    "             for k in range(CT2):\n",
    "#                 img = centre_crop(img_pths[SIZE*j+k])\n",
    "                \n",
    "                img = cv2.imread(img_pths[SIZE*j+k])\n",
    "    #             img = cv2.cvtColor(img, cv2.COLOR_RGB2BGR) # Fix incorrect colors\n",
    "                img = cv2.imencode('.jpg', img, (cv2.IMWRITE_JPEG_QUALITY, 100))[1].tostring()\n",
    "                name = img_pths[SIZE*j+k].split('/')[-1].split('.')[0]\n",
    "    #             print(name)\n",
    "#                 try:\n",
    "                row = isic_df.loc[isic_df.image_name==name]\n",
    "                if not row.empty:\n",
    "                    rec_count=rec_count+1\n",
    "    #                 print(str(row.image_size.values[0]))\n",
    "\n",
    "                    example = serialize_example(\n",
    "                        img, str.encode(name),\n",
    "                        row.patient_id.values[0],\n",
    "                        row.sex.values[0],\n",
    "                        row.age_approx.values[0],                        \n",
    "                        row.anatom_site_general_challenge.values[0],\n",
    "                        row.target.values[0],\n",
    "                        row.diagnosis.values[0],\n",
    "                        row.width.values[0],\n",
    "                        row.height.values[0],\n",
    "                        row.cluster.values[0]\n",
    "                        )\n",
    "                    writer.write(example)\n",
    "                    if k%100==0:\n",
    "                        print(k,', ',end='')\n",
    "#                             jpgs = glob.glob('./*.jpg')\n",
    "#                             for i in jpgs:\n",
    "#                                 os.remove([i])\n",
    "       \n",
    "#                 except:\n",
    "#                     pass\n",
    "        if rec_count==len(img_pths):\n",
    "            print('All '+str(rec_count)+' images recorded.')"
   ]
  },
  {
   "cell_type": "code",
   "execution_count": null,
   "metadata": {
    "execution": {
     "iopub.execute_input": "2020-08-15T09:23:38.401203Z",
     "iopub.status.busy": "2020-08-15T09:23:38.400019Z",
     "iopub.status.idle": "2020-08-15T09:29:42.324993Z",
     "shell.execute_reply": "2020-08-15T09:29:42.322729Z"
    },
    "papermill": {
     "duration": 363.985903,
     "end_time": "2020-08-15T09:29:42.325207",
     "exception": false,
     "start_time": "2020-08-15T09:23:38.339304",
     "status": "completed"
    },
    "tags": []
   },
   "outputs": [],
   "source": [
    "# gen_tf_rec(img_path_2020, isic_2020_labelled,'20')\n",
    "\n",
    "path = '../input/jpeg-melanoma-'+str(size)+'x'+str(size)+'/train/'\n",
    "path_mal = '../input/malignant-v2-'+str(size)+'x'+str(size)+'/jpeg'+str(size)+'/'\n",
    "path_ext = '../input/jpeg-isic2019-'+str(size)+'x'+str(size)+'/train/'\n",
    "for i in tqdm(range(15)):\n",
    "    img_name = train.query('tfrecord=='+str(i))['image_name'].tolist()\n",
    "    img_namem1 = m1.query('tfrecord=='+str(i))['image_name'].tolist()\n",
    "    img_namem2 = m2.query('tfrecord=='+str(i+15))['image_name'].tolist()\n",
    "    img_namem3 = m3.query('tfrecord=='+str(i*2+1+30))['image_name'].tolist()\n",
    "    img_namem4 = m4.query('tfrecord=='+str(i*2+30))['image_name'].tolist()\n",
    "    img_name18 = ext_18.query('tfrecord=='+str(i*2))['image_name'].tolist()\n",
    "#     train_img_paths = train['image_name'].tolist()\n",
    "    train_img_paths = [path + img+'.jpg' for img in img_name]\n",
    "    m1_img_paths = [path + img+'.jpg' for img in img_namem1]\n",
    "    m2_img_paths = [path_mal + img+'.jpg' for img in img_namem2]\n",
    "    m3_img_paths = [path_ext + img+'.jpg' for img in img_namem3]\n",
    "    m4_img_paths = [path_ext + img+'.jpg' for img in img_namem4]\n",
    "    ext_18_img_paths = [path_ext + img+'.jpg' for img in img_name18]\n",
    "    \n",
    "    gen_tf_rec(train_img_paths,\n",
    "               train.query('tfrecord=='+str(i)),'20F'+str(i))\n",
    "    gen_tf_rec(m1_img_paths,\n",
    "               m1.query('tfrecord=='+str(i)),'_m1_'+str(i))\n",
    "    gen_tf_rec(m2_img_paths,\n",
    "               m2.query('tfrecord=='+str(i+15)),'_m2_'+str(i+15))\n",
    "    gen_tf_rec(m3_img_paths,\n",
    "               m3.query('tfrecord=='+str(i*2+1+30)),'_m3_'+str(i*2+1+30))\n",
    "    gen_tf_rec(m4_img_paths,\n",
    "               m4.query('tfrecord=='+str(i*2+30)),'_m4_'+str(i*2+30))\n",
    "    gen_tf_rec(ext_18_img_paths,\n",
    "               ext_18.query('tfrecord=='+str(i*2)),'_ext_18_'+str(i*2))"
   ]
  },
  {
   "cell_type": "code",
   "execution_count": null,
   "metadata": {
    "execution": {
     "iopub.execute_input": "2020-08-15T09:29:42.426392Z",
     "iopub.status.busy": "2020-08-15T09:29:42.425537Z",
     "iopub.status.idle": "2020-08-15T09:31:26.316752Z",
     "shell.execute_reply": "2020-08-15T09:31:26.316074Z"
    },
    "papermill": {
     "duration": 103.947026,
     "end_time": "2020-08-15T09:31:26.316915",
     "exception": false,
     "start_time": "2020-08-15T09:29:42.369889",
     "status": "completed"
    },
    "tags": []
   },
   "outputs": [],
   "source": [
    "# gen_tf_rec(img_path_2020, isic_2020_labelled,'20')\n",
    "path = '../input/jpeg-melanoma-'+str(size)+'x'+str(size)+'/test/'\n",
    "img_name = test['image_name'].tolist()\n",
    "#     train_img_paths = train['image_name'].tolist()\n",
    "test_img_paths = [path + img+'.jpg' for img in img_name]\n",
    "gen_tf_rec(test_img_paths,test,'20test')"
   ]
  },
  {
   "cell_type": "code",
   "execution_count": null,
   "metadata": {
    "execution": {
     "iopub.execute_input": "2020-08-15T09:31:26.456066Z",
     "iopub.status.busy": "2020-08-15T09:31:26.440451Z",
     "iopub.status.idle": "2020-08-15T09:31:26.467621Z",
     "shell.execute_reply": "2020-08-15T09:31:26.466654Z"
    },
    "papermill": {
     "duration": 0.099102,
     "end_time": "2020-08-15T09:31:26.467800",
     "exception": false,
     "start_time": "2020-08-15T09:31:26.368698",
     "status": "completed"
    },
    "tags": []
   },
   "outputs": [],
   "source": [
    "# numpy and matplotlib defaults\n",
    "np.set_printoptions(threshold=15, linewidth=80)\n",
    "CLASSES = [0,1]\n",
    "\n",
    "def batch_to_numpy_images_and_labels(data):\n",
    "    images, labels = data\n",
    "    numpy_images = images.numpy()\n",
    "    numpy_labels = labels.numpy()\n",
    "    #if numpy_labels.dtype == object: # binary string in this case, these are image ID strings\n",
    "    #    numpy_labels = [None for _ in enumerate(numpy_images)]\n",
    "    # If no labels, only image IDs, return None for labels (this is the case for test data)\n",
    "    return numpy_images, numpy_labels\n",
    "\n",
    "def title_from_label_and_target(label, correct_label):\n",
    "    if correct_label is None:\n",
    "        return CLASSES[label], True\n",
    "    correct = (label == correct_label)\n",
    "    return \"{} [{}{}{}]\".format(CLASSES[label], 'OK' if correct else 'NO', u\"\\u2192\" if not correct else '',\n",
    "                                CLASSES[correct_label] if not correct else ''), correct\n",
    "\n",
    "def display_one_flower(image, title, subplot, red=False, titlesize=16):\n",
    "    plt.subplot(*subplot)\n",
    "    plt.axis('off')\n",
    "    plt.imshow(image)\n",
    "    if len(title) > 0:\n",
    "        plt.title(title, fontsize=int(titlesize) if not red else int(titlesize/1.2), color='red' if red else 'black', fontdict={'verticalalignment':'center'}, pad=int(titlesize/1.5))\n",
    "    return (subplot[0], subplot[1], subplot[2]+1)\n",
    "    \n",
    "def display_batch_of_images(databatch, predictions=None):\n",
    "    \"\"\"This will work with:\n",
    "    display_batch_of_images(images)\n",
    "    display_batch_of_images(images, predictions)\n",
    "    display_batch_of_images((images, labels))\n",
    "    display_batch_of_images((images, labels), predictions)\n",
    "    \"\"\"\n",
    "    # data\n",
    "    images, labels = batch_to_numpy_images_and_labels(databatch)\n",
    "    if labels is None:\n",
    "        labels = [None for _ in enumerate(images)]\n",
    "        \n",
    "    # auto-squaring: this will drop data that does not fit into square or square-ish rectangle\n",
    "    rows = int(math.sqrt(len(images)))\n",
    "    cols = len(images)//rows\n",
    "        \n",
    "    # size and spacing\n",
    "    FIGSIZE = 13.0\n",
    "    SPACING = 0.1\n",
    "    subplot=(rows,cols,1)\n",
    "    if rows < cols:\n",
    "        plt.figure(figsize=(FIGSIZE,FIGSIZE/cols*rows))\n",
    "    else:\n",
    "        plt.figure(figsize=(FIGSIZE/rows*cols,FIGSIZE))\n",
    "    \n",
    "    # display\n",
    "    for i, (image, label) in enumerate(zip(images[:rows*cols], labels[:rows*cols])):\n",
    "        title = label\n",
    "        correct = True\n",
    "        if predictions is not None:\n",
    "            title, correct = title_from_label_and_target(predictions[i], label)\n",
    "        dynamic_titlesize = FIGSIZE*SPACING/max(rows,cols)*40+3 # magic formula tested to work from 1x1 to 10x10 images\n",
    "        subplot = display_one_flower(image, title, subplot, not correct, titlesize=dynamic_titlesize)\n",
    "    \n",
    "    #layout\n",
    "    plt.tight_layout()\n",
    "    if label is None and predictions is None:\n",
    "        plt.subplots_adjust(wspace=0, hspace=0)\n",
    "    else:\n",
    "        plt.subplots_adjust(wspace=SPACING, hspace=SPACING)\n",
    "    plt.show()"
   ]
  },
  {
   "cell_type": "code",
   "execution_count": null,
   "metadata": {
    "execution": {
     "iopub.execute_input": "2020-08-15T09:31:26.608806Z",
     "iopub.status.busy": "2020-08-15T09:31:26.607968Z",
     "iopub.status.idle": "2020-08-15T09:31:26.611497Z",
     "shell.execute_reply": "2020-08-15T09:31:26.610753Z"
    },
    "papermill": {
     "duration": 0.07774,
     "end_time": "2020-08-15T09:31:26.611649",
     "exception": false,
     "start_time": "2020-08-15T09:31:26.533909",
     "status": "completed"
    },
    "tags": []
   },
   "outputs": [],
   "source": [
    "def decode_image(image_data):\n",
    "    image = tf.image.decode_jpeg(image_data, channels=3)\n",
    "    image = tf.cast(image, tf.float32) / 255.0  # convert image to floats in [0, 1] range\n",
    "    image = tf.reshape(image, [*IMAGE_SIZE, 3]) # explicit size needed for TPU\n",
    "    return image\n",
    "\n",
    "def read_labeled_tfrecord(example):\n",
    "    LABELED_TFREC_FORMAT = {\n",
    "        \"image\": tf.io.FixedLenFeature([], tf.string), # tf.string means bytestring\n",
    "        \"image_name\": tf.io.FixedLenFeature([], tf.string),  # shape [] means single element\n",
    "    }\n",
    "    example = tf.io.parse_single_example(example, LABELED_TFREC_FORMAT)\n",
    "    image = decode_image(example['image'])\n",
    "    label = example['image_name']\n",
    "    return image, label # returns a dataset of (image, label) pairs\n",
    "\n",
    "def load_dataset(filenames, labeled=True, ordered=False):\n",
    "    # Read from TFRecords. For optimal performance, reading from multiple files at once and\n",
    "    # disregarding data order. Order does not matter since we will be shuffling the data anyway.\n",
    "\n",
    "    ignore_order = tf.data.Options()\n",
    "    if not ordered:\n",
    "        ignore_order.experimental_deterministic = False # disable order, increase speed\n",
    "\n",
    "    dataset = tf.data.TFRecordDataset(filenames, num_parallel_reads=AUTO) # automatically interleaves reads from multiple files\n",
    "    dataset = dataset.with_options(ignore_order) # uses data as soon as it streams in, rather than in its original order\n",
    "    dataset = dataset.map(read_labeled_tfrecord)\n",
    "    # returns a dataset of (image, label) pairs if labeled=True or (image, id) pairs if labeled=False\n",
    "    return dataset\n",
    "\n",
    "def get_training_dataset():\n",
    "    dataset = load_dataset(TRAINING_FILENAMES, labeled=True)\n",
    "    dataset = dataset.repeat() # the training dataset must repeat for several epochs\n",
    "    dataset = dataset.shuffle(2048)\n",
    "    dataset = dataset.batch(BATCH_SIZE)\n",
    "    dataset = dataset.prefetch(AUTO) # prefetch next batch while training (autotune prefetch buffer size)\n",
    "    return dataset\n",
    "\n",
    "def count_data_items(filenames):\n",
    "    # the number of data items is written in the name of the .tfrec files, i.e. flowers00-230.tfrec = 230 data items\n",
    "    n = [int(re.compile(r\"-([0-9]*)\\.\").search(filename).group(1)) for filename in filenames]\n",
    "    return np.sum(n)"
   ]
  },
  {
   "cell_type": "code",
   "execution_count": null,
   "metadata": {
    "execution": {
     "iopub.execute_input": "2020-08-15T09:31:26.730963Z",
     "iopub.status.busy": "2020-08-15T09:31:26.730144Z",
     "iopub.status.idle": "2020-08-15T09:31:31.689056Z",
     "shell.execute_reply": "2020-08-15T09:31:31.689666Z"
    },
    "papermill": {
     "duration": 5.027165,
     "end_time": "2020-08-15T09:31:31.689842",
     "exception": false,
     "start_time": "2020-08-15T09:31:26.662677",
     "status": "completed"
    },
    "tags": []
   },
   "outputs": [],
   "source": [
    "import re\n",
    "import math\n",
    "# INITIALIZE VARIABLES\n",
    "IMAGE_SIZE= [size,size]; BATCH_SIZE = 32\n",
    "AUTO = tf.data.experimental.AUTOTUNE\n",
    "TRAINING_FILENAMES = tf.io.gfile.glob('./isic_m2_18tr00-39.tfrec')\n",
    "print('There are %i train images'%count_data_items(TRAINING_FILENAMES))\n",
    "# DISPLAY TRAIN IMAGES\n",
    "training_dataset = get_training_dataset()\n",
    "training_dataset = training_dataset.unbatch().batch(10)\n",
    "train_batch = iter(training_dataset)\n",
    "\n",
    "display_batch_of_images(next(train_batch))"
   ]
  },
  {
   "cell_type": "code",
   "execution_count": null,
   "metadata": {
    "execution": {
     "iopub.execute_input": "2020-08-15T09:31:31.823919Z",
     "iopub.status.busy": "2020-08-15T09:31:31.822746Z",
     "iopub.status.idle": "2020-08-15T09:31:35.537711Z",
     "shell.execute_reply": "2020-08-15T09:31:35.538307Z"
    },
    "papermill": {
     "duration": 3.787819,
     "end_time": "2020-08-15T09:31:35.538481",
     "exception": false,
     "start_time": "2020-08-15T09:31:31.750662",
     "status": "completed"
    },
    "tags": []
   },
   "outputs": [],
   "source": [
    "IMAGE_SIZE= [size,size]; BATCH_SIZE = 32\n",
    "AUTO = tf.data.experimental.AUTOTUNE\n",
    "TRAINING_FILENAMES = tf.io.gfile.glob('./isic_m1_5tr00-38.tfrec')\n",
    "print('There are %i train images'%count_data_items(TRAINING_FILENAMES))\n",
    "# DISPLAY TRAIN IMAGES\n",
    "training_dataset = get_training_dataset()\n",
    "training_dataset = training_dataset.unbatch().batch(10)\n",
    "train_batch = iter(training_dataset)\n",
    "\n",
    "display_batch_of_images(next(train_batch))"
   ]
  },
  {
   "cell_type": "code",
   "execution_count": null,
   "metadata": {
    "execution": {
     "iopub.execute_input": "2020-08-15T09:31:35.697981Z",
     "iopub.status.busy": "2020-08-15T09:31:35.696813Z",
     "iopub.status.idle": "2020-08-15T09:31:39.178126Z",
     "shell.execute_reply": "2020-08-15T09:31:39.178739Z"
    },
    "papermill": {
     "duration": 3.566232,
     "end_time": "2020-08-15T09:31:39.178937",
     "exception": false,
     "start_time": "2020-08-15T09:31:35.612705",
     "status": "completed"
    },
    "tags": []
   },
   "outputs": [],
   "source": [
    "IMAGE_SIZE= [size,size]; BATCH_SIZE = 32\n",
    "AUTO = tf.data.experimental.AUTOTUNE\n",
    "TRAINING_FILENAMES = tf.io.gfile.glob('./isic_m2_18tr00-39.tfrec')\n",
    "print('There are %i train images'%count_data_items(TRAINING_FILENAMES))\n",
    "# DISPLAY TRAIN IMAGES\n",
    "training_dataset = get_training_dataset()\n",
    "training_dataset = training_dataset.unbatch().batch(10)\n",
    "train_batch = iter(training_dataset)\n",
    "\n",
    "display_batch_of_images(next(train_batch))"
   ]
  },
  {
   "cell_type": "code",
   "execution_count": null,
   "metadata": {
    "execution": {
     "iopub.execute_input": "2020-08-15T09:31:39.358605Z",
     "iopub.status.busy": "2020-08-15T09:31:39.357774Z",
     "iopub.status.idle": "2020-08-15T09:31:42.713029Z",
     "shell.execute_reply": "2020-08-15T09:31:42.713675Z"
    },
    "papermill": {
     "duration": 3.448253,
     "end_time": "2020-08-15T09:31:42.713855",
     "exception": false,
     "start_time": "2020-08-15T09:31:39.265602",
     "status": "completed"
    },
    "tags": []
   },
   "outputs": [],
   "source": [
    "IMAGE_SIZE= [size,size]; BATCH_SIZE = 32\n",
    "AUTO = tf.data.experimental.AUTOTUNE\n",
    "TRAINING_FILENAMES = tf.io.gfile.glob('./isic_ext_18_2tr00-858.tfrec')\n",
    "print('There are %i train images'%count_data_items(TRAINING_FILENAMES))\n",
    "# DISPLAY TRAIN IMAGES\n",
    "training_dataset = get_training_dataset()\n",
    "training_dataset = training_dataset.unbatch().batch(10)\n",
    "train_batch = iter(training_dataset)\n",
    "\n",
    "# display_batch_of_images(next(train_batch))"
   ]
  },
  {
   "cell_type": "code",
   "execution_count": null,
   "metadata": {
    "execution": {
     "iopub.execute_input": "2020-08-15T09:31:42.986664Z",
     "iopub.status.busy": "2020-08-15T09:31:42.985814Z",
     "iopub.status.idle": "2020-08-15T09:31:46.271987Z",
     "shell.execute_reply": "2020-08-15T09:31:46.272588Z"
    },
    "papermill": {
     "duration": 3.392601,
     "end_time": "2020-08-15T09:31:46.272763",
     "exception": false,
     "start_time": "2020-08-15T09:31:42.880162",
     "status": "completed"
    },
    "tags": []
   },
   "outputs": [],
   "source": [
    "IMAGE_SIZE= [size,size]; BATCH_SIZE = 32\n",
    "AUTO = tf.data.experimental.AUTOTUNE\n",
    "TRAINING_FILENAMES = tf.io.gfile.glob('./isic20testtr00-3000.tfrec')\n",
    "print('There are %i train images'%count_data_items(TRAINING_FILENAMES))\n",
    "# DISPLAY TRAIN IMAGES\n",
    "training_dataset = get_training_dataset()\n",
    "training_dataset = training_dataset.unbatch().batch(10)\n",
    "train_batch = iter(training_dataset)\n",
    "\n",
    "display_batch_of_images(next(train_batch))"
   ]
  }
 ],
 "metadata": {
  "kernelspec": {
   "display_name": "Python 3",
   "language": "python",
   "name": "python3"
  },
  "language_info": {
   "codemirror_mode": {
    "name": "ipython",
    "version": 3
   },
   "file_extension": ".py",
   "mimetype": "text/x-python",
   "name": "python",
   "nbconvert_exporter": "python",
   "pygments_lexer": "ipython3",
   "version": "3.7.6"
  },
  "papermill": {
   "duration": 502.632238,
   "end_time": "2020-08-15T09:31:46.492142",
   "environment_variables": {},
   "exception": null,
   "input_path": "__notebook__.ipynb",
   "output_path": "__notebook__.ipynb",
   "parameters": {},
   "start_time": "2020-08-15T09:23:23.859904",
   "version": "2.1.0"
  },
  "widgets": {
   "application/vnd.jupyter.widget-state+json": {
    "state": {
     "066984f509c84aff8f228cc2138f0567": {
      "model_module": "@jupyter-widgets/controls",
      "model_module_version": "1.5.0",
      "model_name": "HBoxModel",
      "state": {
       "_dom_classes": [],
       "_model_module": "@jupyter-widgets/controls",
       "_model_module_version": "1.5.0",
       "_model_name": "HBoxModel",
       "_view_count": null,
       "_view_module": "@jupyter-widgets/controls",
       "_view_module_version": "1.5.0",
       "_view_name": "HBoxView",
       "box_style": "",
       "children": [
        "IPY_MODEL_5a501aa9cfa14b258cc0328d4e9bb6b7",
        "IPY_MODEL_e58bc5179f44484ea3861fdd424ecfcc"
       ],
       "layout": "IPY_MODEL_3e14d5f42c8f4d6aa939718823f76e23"
      }
     },
     "2a4dc05b9d8c498ba8752f5d1174b997": {
      "model_module": "@jupyter-widgets/base",
      "model_module_version": "1.2.0",
      "model_name": "LayoutModel",
      "state": {
       "_model_module": "@jupyter-widgets/base",
       "_model_module_version": "1.2.0",
       "_model_name": "LayoutModel",
       "_view_count": null,
       "_view_module": "@jupyter-widgets/base",
       "_view_module_version": "1.2.0",
       "_view_name": "LayoutView",
       "align_content": null,
       "align_items": null,
       "align_self": null,
       "border": null,
       "bottom": null,
       "display": null,
       "flex": null,
       "flex_flow": null,
       "grid_area": null,
       "grid_auto_columns": null,
       "grid_auto_flow": null,
       "grid_auto_rows": null,
       "grid_column": null,
       "grid_gap": null,
       "grid_row": null,
       "grid_template_areas": null,
       "grid_template_columns": null,
       "grid_template_rows": null,
       "height": null,
       "justify_content": null,
       "justify_items": null,
       "left": null,
       "margin": null,
       "max_height": null,
       "max_width": null,
       "min_height": null,
       "min_width": null,
       "object_fit": null,
       "object_position": null,
       "order": null,
       "overflow": null,
       "overflow_x": null,
       "overflow_y": null,
       "padding": null,
       "right": null,
       "top": null,
       "visibility": null,
       "width": null
      }
     },
     "3e14d5f42c8f4d6aa939718823f76e23": {
      "model_module": "@jupyter-widgets/base",
      "model_module_version": "1.2.0",
      "model_name": "LayoutModel",
      "state": {
       "_model_module": "@jupyter-widgets/base",
       "_model_module_version": "1.2.0",
       "_model_name": "LayoutModel",
       "_view_count": null,
       "_view_module": "@jupyter-widgets/base",
       "_view_module_version": "1.2.0",
       "_view_name": "LayoutView",
       "align_content": null,
       "align_items": null,
       "align_self": null,
       "border": null,
       "bottom": null,
       "display": null,
       "flex": null,
       "flex_flow": null,
       "grid_area": null,
       "grid_auto_columns": null,
       "grid_auto_flow": null,
       "grid_auto_rows": null,
       "grid_column": null,
       "grid_gap": null,
       "grid_row": null,
       "grid_template_areas": null,
       "grid_template_columns": null,
       "grid_template_rows": null,
       "height": null,
       "justify_content": null,
       "justify_items": null,
       "left": null,
       "margin": null,
       "max_height": null,
       "max_width": null,
       "min_height": null,
       "min_width": null,
       "object_fit": null,
       "object_position": null,
       "order": null,
       "overflow": null,
       "overflow_x": null,
       "overflow_y": null,
       "padding": null,
       "right": null,
       "top": null,
       "visibility": null,
       "width": null
      }
     },
     "5a501aa9cfa14b258cc0328d4e9bb6b7": {
      "model_module": "@jupyter-widgets/controls",
      "model_module_version": "1.5.0",
      "model_name": "FloatProgressModel",
      "state": {
       "_dom_classes": [],
       "_model_module": "@jupyter-widgets/controls",
       "_model_module_version": "1.5.0",
       "_model_name": "FloatProgressModel",
       "_view_count": null,
       "_view_module": "@jupyter-widgets/controls",
       "_view_module_version": "1.5.0",
       "_view_name": "ProgressView",
       "bar_style": "success",
       "description": "100%",
       "description_tooltip": null,
       "layout": "IPY_MODEL_2a4dc05b9d8c498ba8752f5d1174b997",
       "max": 15,
       "min": 0,
       "orientation": "horizontal",
       "style": "IPY_MODEL_ab8cc2007b9d41e39f446d7106d9bd12",
       "value": 15
      }
     },
     "5ce89a2dd55546a9bff1f9fd6ab522a4": {
      "model_module": "@jupyter-widgets/controls",
      "model_module_version": "1.5.0",
      "model_name": "DescriptionStyleModel",
      "state": {
       "_model_module": "@jupyter-widgets/controls",
       "_model_module_version": "1.5.0",
       "_model_name": "DescriptionStyleModel",
       "_view_count": null,
       "_view_module": "@jupyter-widgets/base",
       "_view_module_version": "1.2.0",
       "_view_name": "StyleView",
       "description_width": ""
      }
     },
     "72a1f7231d3942b49f516b52fa97a2e2": {
      "model_module": "@jupyter-widgets/base",
      "model_module_version": "1.2.0",
      "model_name": "LayoutModel",
      "state": {
       "_model_module": "@jupyter-widgets/base",
       "_model_module_version": "1.2.0",
       "_model_name": "LayoutModel",
       "_view_count": null,
       "_view_module": "@jupyter-widgets/base",
       "_view_module_version": "1.2.0",
       "_view_name": "LayoutView",
       "align_content": null,
       "align_items": null,
       "align_self": null,
       "border": null,
       "bottom": null,
       "display": null,
       "flex": null,
       "flex_flow": null,
       "grid_area": null,
       "grid_auto_columns": null,
       "grid_auto_flow": null,
       "grid_auto_rows": null,
       "grid_column": null,
       "grid_gap": null,
       "grid_row": null,
       "grid_template_areas": null,
       "grid_template_columns": null,
       "grid_template_rows": null,
       "height": null,
       "justify_content": null,
       "justify_items": null,
       "left": null,
       "margin": null,
       "max_height": null,
       "max_width": null,
       "min_height": null,
       "min_width": null,
       "object_fit": null,
       "object_position": null,
       "order": null,
       "overflow": null,
       "overflow_x": null,
       "overflow_y": null,
       "padding": null,
       "right": null,
       "top": null,
       "visibility": null,
       "width": null
      }
     },
     "ab8cc2007b9d41e39f446d7106d9bd12": {
      "model_module": "@jupyter-widgets/controls",
      "model_module_version": "1.5.0",
      "model_name": "ProgressStyleModel",
      "state": {
       "_model_module": "@jupyter-widgets/controls",
       "_model_module_version": "1.5.0",
       "_model_name": "ProgressStyleModel",
       "_view_count": null,
       "_view_module": "@jupyter-widgets/base",
       "_view_module_version": "1.2.0",
       "_view_name": "StyleView",
       "bar_color": null,
       "description_width": "initial"
      }
     },
     "e58bc5179f44484ea3861fdd424ecfcc": {
      "model_module": "@jupyter-widgets/controls",
      "model_module_version": "1.5.0",
      "model_name": "HTMLModel",
      "state": {
       "_dom_classes": [],
       "_model_module": "@jupyter-widgets/controls",
       "_model_module_version": "1.5.0",
       "_model_name": "HTMLModel",
       "_view_count": null,
       "_view_module": "@jupyter-widgets/controls",
       "_view_module_version": "1.5.0",
       "_view_name": "HTMLView",
       "description": "",
       "description_tooltip": null,
       "layout": "IPY_MODEL_72a1f7231d3942b49f516b52fa97a2e2",
       "placeholder": "​",
       "style": "IPY_MODEL_5ce89a2dd55546a9bff1f9fd6ab522a4",
       "value": " 15/15 [07:56&lt;00:00, 31.74s/it]"
      }
     }
    },
    "version_major": 2,
    "version_minor": 0
   }
  }
 },
 "nbformat": 4,
 "nbformat_minor": 4
}
